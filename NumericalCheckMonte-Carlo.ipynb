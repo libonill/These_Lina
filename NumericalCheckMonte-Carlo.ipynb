{
 "cells": [
  {
   "cell_type": "markdown",
   "id": "c9cb8f9e",
   "metadata": {
    "id": "c9cb8f9e"
   },
   "source": [
    "# Numerical check"
   ]
  },
  {
   "cell_type": "markdown",
   "id": "af0f50e8",
   "metadata": {
    "id": "af0f50e8"
   },
   "source": [
    "We check the correctness of the expressions using Monte Carlo simulations."
   ]
  },
  {
   "cell_type": "markdown",
   "id": "bff3c3d0",
   "metadata": {
    "id": "bff3c3d0"
   },
   "source": [
    "## Python packages"
   ]
  },
  {
   "cell_type": "code",
   "execution_count": 1,
   "id": "eb8480a2",
   "metadata": {
    "id": "eb8480a2"
   },
   "outputs": [],
   "source": [
    "import numpy as np\n",
    "import random as rng ## for random number generation\n",
    "import math as mt\n",
    "import pandas as pd\n",
    "import matplotlib\n",
    "# https://matplotlib.org/stable/gallery/index.html\n",
    "import matplotlib.pyplot as plt\n",
    "import matplotlib.ticker as ticker\n",
    "%matplotlib inline"
   ]
  },
  {
   "cell_type": "markdown",
   "id": "94ffce69",
   "metadata": {
    "id": "94ffce69"
   },
   "source": [
    "## Analytical Results"
   ]
  },
  {
   "cell_type": "code",
   "execution_count": 2,
   "id": "f9f3619c",
   "metadata": {
    "id": "f9f3619c"
   },
   "outputs": [],
   "source": [
    "def mean_ROC(M,m):    \n",
    "    return ((M+1)*(1-m**M))/(2*(1-m))\n",
    "def mean_ROCI(M,m,I):\n",
    "    return ((M+1)*(1-m**I))/(2*(1-m))\n",
    "def variance_ROC(M,m):\n",
    "    return (((M*(M+1))/12)*(((1-m**(2*M))/(1-m**2))-(1/M)*(((1-m**M)/(1-m))**2)))\n",
    "def variance_ROCI(M,m,I):\n",
    "    return (((M*(M+1))/12)*(((1-m**(2*I))/(1-m**2))-(1/M)*(((1-m**I)/(1-m))**2)))\n",
    "def best_order_ROC(M,m):\n",
    "    weights = np.flip(np.arange(1,M+1))\n",
    "    moduls = m**np.arange(0,M)\n",
    "    return sum(weights*moduls)\n",
    "def best_order_ROCI(M,m,I):\n",
    "    weights =np.flip(np.arange(1,M+1))\n",
    "    moduls = m**np.arange(0,M)\n",
    "    moduls[I:M]=0\n",
    "    return sum(weights*moduls)\n",
    "def discri_ROC(M,m):   \n",
    "    return (best_order_ROC(M,m)-mean_ROC(M,m))/mt.sqrt(variance_ROC(M,m))\n",
    "def discri_ROCI(M,m,I):   \n",
    "    return (best_order_ROCI(M,m,I)-mean_ROCI(M,m,I))/mt.sqrt(variance_ROCI(M,m,I))\n",
    "def cardi_ROC(M):\n",
    "    return mt.factorial(M)\n",
    "\n",
    "\n",
    "def mean_RankedNoM(M,N,W):\n",
    "    return (N*(N+1)*W*(W+1))/(4*M)\n",
    "def mean_RankedNoMI(M,N,W,I):\n",
    "    if (I>N):\n",
    "        I=N    \n",
    "    return (I*W*(W+1)*(2*N-I+1)/(4*M))\n",
    "def variance_RankedNoM(M,N,W):\n",
    "    ExpW = 1/M*W*(W+1)/2\n",
    "    VarV = (ExpW*(2*W+1))/3-ExpW**2\n",
    "    Cov=ExpW/(M-1)*(ExpW-((2*W+1)/3))\n",
    "    VarS = (N*(N+1))/2*(VarV*((2*N+1)/3)+Cov*((N*(N+1))/2-(2*N+1)/3))\n",
    "    return VarS\n",
    "def variance_RankedNoMI(M,N,W,I):\n",
    "    if (I>N):\n",
    "        I=N\n",
    "    ExpW = 1/M*W*(W+1)/2\n",
    "    VarV = (ExpW*(2*W+1))/3-ExpW**2\n",
    "    Cov=ExpW/(M-1)*(ExpW-((2*W+1)/3))\n",
    "    hp = I*(I-1)/2\n",
    "    hq = (2*I-1)/3\n",
    "    VarS = (N*(N*I-2*hp)+hp*hq)*VarV + hp*(2*N*(N-I+1)+hp-hq)*Cov\n",
    "    return VarS\n",
    "def best_order_RankedNoM(M,N,W):\n",
    "    x = np.zeros(M)\n",
    "    y= np.zeros(M)\n",
    "    for i in range(N):\n",
    "        x[i]=N-i\n",
    "    for j in range(W):\n",
    "        y[j]=W-j   \n",
    "    return sum(x*y)\n",
    "def best_order_RankedNoMI(M,N,W,I):\n",
    "    x = np.zeros(M)\n",
    "    y= np.zeros(M)\n",
    "    for i in range(I):\n",
    "        x[i]=N-i\n",
    "    for j in range(W):\n",
    "        y[j]=W-j   \n",
    "    return sum(x*y)\n",
    "def discri_RankedNoM(M,N,W):\n",
    "    return (best_order_RankedNoM(M,N,W)-mean_RankedNoM(M,N,W))/mt.sqrt(variance_RankedNoM(M,N,W))\n",
    "def discri_RankedNoMI(M,N,W,I):\n",
    "    return (best_order_RankedNoMI(M,N,W,I)-mean_RankedNoMI(M,N,W,I))/mt.sqrt(variance_RankedNoMI(M,N,W,I))\n",
    "def cardi_RankedNoM(M,N,W):\n",
    "    return mt.factorial(M)/mt.factorial(M-W)\n",
    "\n",
    "\n",
    "\n",
    "def mean_NoM(M,N,W):\n",
    "    return (W*N/M)\n",
    "def mean_NoMI(M,N,W,I):\n",
    "    if (I>N):\n",
    "        I=N\n",
    "    return (W*I/M) \n",
    "def variance_NoM(M,N,W):\n",
    "    return (W*N/M) * (M-W)*(M-N) / ((M-1)*M)  \n",
    "def variance_NoMI(M,N,W,I):\n",
    "    if (I>N):\n",
    "        I=N\n",
    "    return (W*I/M) * (M-W)*(M-I) / ((M-1)*M)  \n",
    "def best_order_NoM(M,N,W):\n",
    "    x = np.zeros(M)\n",
    "    y = np.zeros(M)\n",
    "    for i in range(N):\n",
    "        x[i]=1\n",
    "    for j in range(W):\n",
    "        y[j]=1    \n",
    "    return sum(x*y)\n",
    "def best_order_NoMI(M,N,W,I):\n",
    "    if (I>N):\n",
    "        I=N\n",
    "    x = np.zeros(M)\n",
    "    y = np.zeros(M)\n",
    "    for i in range(I):\n",
    "        x[i]=1\n",
    "    for j in range(W):\n",
    "        y[j]=1    \n",
    "    return sum(x*y)\n",
    "def discri_NoM(M,N,W):\n",
    "    return (best_order_NoM(M,N,W)-mean_NoM(M,N,W))/mt.sqrt(variance_NoM(M,N,W))\n",
    "def discri_NoMI(M,N,W,I):\n",
    "    return (best_order_NoMI(M,N,W,I)-mean_NoMI(M,N,W,I))/mt.sqrt(variance_NoMI(M,N,W,I))\n",
    "def cardi_NoM(M,N,W):\n",
    "    return mt.factorial(M)/(mt.factorial(M-W)*mt.factorial(W))\n",
    "   \n"
   ]
  },
  {
   "cell_type": "markdown",
   "id": "VVE1Suh1cYTb",
   "metadata": {
    "id": "VVE1Suh1cYTb"
   },
   "source": [
    "## Max value formula, integration of each scheme"
   ]
  },
  {
   "cell_type": "code",
   "execution_count": 3,
   "id": "xhbbU9ZpORcG",
   "metadata": {
    "colab": {
     "base_uri": "https://localhost:8080/"
    },
    "id": "xhbbU9ZpORcG",
    "outputId": "6f41ddb7-7b4a-43e3-8cc1-0eab793c8f35"
   },
   "outputs": [
    {
     "name": "stdout",
     "output_type": "stream",
     "text": [
      "135.0198070406286 135.0198070406286\n",
      "5.0 5\n",
      "130.0 130.0\n"
     ]
    }
   ],
   "source": [
    "M=31\n",
    "m=0.8\n",
    "W=10 # W should be greater than N for NofM and RankedNoM\n",
    "N=5\n",
    "xR=best_order_ROC(M,m)\n",
    "maxR = ((1-m)*(1+M)-(1-m**(M+1)))/(1-m)**2\n",
    "print(xR,maxR)\n",
    "xF=best_order_NoM(M,N,W)\n",
    "maxF=N\n",
    "print(xF,maxF)\n",
    "xH=best_order_RankedNoM(M,N,W)\n",
    "maxH=N*W*(N+1)/2+(N*(1-N**2)/6)\n",
    "print(xH,maxH)"
   ]
  },
  {
   "cell_type": "markdown",
   "id": "42c3db4d",
   "metadata": {},
   "source": [
    "## Asymptotic value for ROC"
   ]
  },
  {
   "cell_type": "code",
   "execution_count": 4,
   "id": "8tvbiHiX0nvh",
   "metadata": {
    "colab": {
     "base_uri": "https://localhost:8080/"
    },
    "id": "8tvbiHiX0nvh",
    "outputId": "da146792-8861-4c56-c347-2cbb3d158639"
   },
   "outputs": [
    {
     "name": "stdout",
     "output_type": "stream",
     "text": [
      "M\tFinal Discriminability\n",
      "32 \t 4.342775778272229\n",
      "120 \t 4.976805706620272\n",
      "1200 \t 5.174474595925669\n",
      "12000 \t 5.193987088436375\n",
      "120000 \t 5.195935913649229\n",
      "Inf \t 5.196152422706631\n"
     ]
    }
   ],
   "source": [
    "def max(M,m):\n",
    "    return ((1-m)*(1+M)-(1-m**(M+1)))/(1-m)**2\n",
    "\n",
    "asympt=(mt.sqrt(3)/(1-m))*mt.sqrt(1-m*m)\n",
    "\n",
    "print(\"M\\tFinal Discriminability\")\n",
    "for M in (32,120,1200,12000, 120000):\n",
    "    D = (max(M,m)-mean_ROC(M,m))/ mt.sqrt(variance_ROC(M,m))\n",
    "    print(M,\"\\t\",D)\n",
    "print(\"Inf \\t\",asympt)"
   ]
  },
  {
   "cell_type": "markdown",
   "id": "2ca2344c",
   "metadata": {
    "id": "2ca2344c"
   },
   "source": [
    "\n",
    "## Numerical checks"
   ]
  },
  {
   "cell_type": "code",
   "execution_count": 5,
   "id": "b3746e19",
   "metadata": {
    "id": "b3746e19"
   },
   "outputs": [],
   "source": [
    "## Monte Carlo Estimation\n",
    "def simulate(M,moduls,weights,I,nsims):\n",
    "    simsN = mt.floor(nsims)\n",
    "    sims = np.zeros(simsN)\n",
    "    sims[0] = sum(weights[0:I]*moduls[0:I]) ## force the maximal values to belong to the sample\n",
    "    for i in range(1,simsN):\n",
    "        sims[i]= sum(weights[np.random.permutation(M)][0:I]*moduls[0:I]) ## rand orders\n",
    "    return( sims ) "
   ]
  },
  {
   "cell_type": "code",
   "execution_count": 6,
   "id": "86e20af2",
   "metadata": {
    "code_folding": [],
    "id": "86e20af2"
   },
   "outputs": [],
   "source": [
    "def NumericalCheck(M,N,W,I,nsims):\n",
    "    print(\"M=\",M,\" ; N=\",N,\" ; W=\",W,\" ; n=\",nsims,\"\\n\")\n",
    "    ## RankedNoM\n",
    "    print(\"RankedNoM\\n=======\")\n",
    "    Ms = np.zeros(M) ; Ms[0:N]=(np.arange(N)+1)[::-1]\n",
    "    Ws = np.zeros(M) ; Ws[0:W]=(np.arange(W)+1)[::-1]\n",
    "    # print(Ms)\n",
    "    sims = simulate(M,Ms,Ws,M,nsims)\n",
    "    print(\"\\t\\tTheoretical values \\t / Monte Carlo estimate\")\n",
    "    print(\"Mean\\t\\t\",mean_RankedNoM(M,N,W), \"\\t / \",sims.mean(),\" ± \",mt.sqrt(sims.var()/nsims))\n",
    "    print(\"Var \\t\\t\",variance_RankedNoM(M,N,W), \"\\t / \",sims.var())\n",
    "    print(\"Best\\t\\t\",best_order_RankedNoM(M,N,W), \"\\t\\t\\t / \",sims.max())\n",
    "    print(\"Disc\\t\\t\",discri_RankedNoM(M,N,W), \"\\t / \",(sims.max()-sims.mean())/mt.sqrt(sims.var()))\n",
    "\n",
    "    print(\"\\n I=\",I)\n",
    "    sims = simulate(M,Ms,Ws,I,nsims)\n",
    "    print(\"Mean\\t\\t\", mean_RankedNoMI(M,N,W,I), \"\\t / \",sims.mean(),\" ± \",mt.sqrt(sims.var()/nsims))\n",
    "    print(\"Var\\t\\t\",variance_RankedNoMI(M,N,W,I), \"\\t / \",sims.var())\n",
    "    print(\"Best\\t\\t\",best_order_RankedNoMI(M,N,W,I), \"\\t\\t\\t / \",sims.max())\n",
    "    print(\"Disc\\t\\t\",discri_RankedNoMI(M,N,W,I), \"\\t / \",(sims.max()-sims.mean())/mt.sqrt(sims.var()))\n",
    "\n",
    "    ## NoM\n",
    "    print(\"\\n\\nNoM\\n=======\")\n",
    "    Ms = np.zeros(M) ; Ms[0:N]=1\n",
    "    Ws = np.zeros(M) ; Ws[0:W]=1\n",
    "    # print(Ms)\n",
    "    sims = simulate(M,Ms,Ws,M,nsims)\n",
    "    print(\"\\t\\tTheoretical values \\t / Monte Carlo estimate\")\n",
    "    print(\"Mean\\t\\t\",mean_NoM(M,N,W), \"\\t / \",sims.mean(),\" ± \",mt.sqrt(sims.var()/nsims))\n",
    "    print(\"Var \\t\\t\",variance_NoM(M,N,W), \"\\t / \",sims.var())\n",
    "    print(\"Best\\t\\t\",best_order_NoM(M,N,W), \"\\t\\t\\t / \",sims.max())\n",
    "    print(\"Disc\\t\\t\",discri_NoM(M,N,W), \"\\t / \",(sims.max()-sims.mean())/mt.sqrt(sims.var()))\n",
    "\n",
    "    print(\"\\n I=\",I)\n",
    "    sims = simulate(M,Ms,Ws,I,nsims)\n",
    "    print(\"Mean\\t\\t\", mean_NoMI(M,N,W,I), \"\\t / \",sims.mean(),\" ± \",mt.sqrt(sims.var()/nsims)) \n",
    "    print(\"Var\\t\\t\",variance_NoMI(M,N,W,I), \"\\t / \",sims.var())\n",
    "    print(\"Best\\t\\t\",best_order_NoMI(M,N,W,I), \"\\t\\t\\t / \",sims.max())\n",
    "    print(\"Disc\\t\\t\",discri_NoMI(M,N,W,I), \"\\t / \",(sims.max()-sims.mean())/mt.sqrt(sims.var()))\n",
    "\n",
    "\n",
    "\n",
    "    ## ROC\n",
    "    print(\"\\n\\nGeometrical ROC\\n=======\")\n",
    "    m=0.8\n",
    "    Ms = m**np.arange(0,M)\n",
    "    Ws = np.flip(np.arange(1,M+1))\n",
    "    # print(Ms) ; print(Ws)\n",
    "    sims = simulate(M,Ms,Ws,M,nsims)\n",
    "    print(\"\\t\\tTheoretical values \\t / Monte Carlo estimate\")\n",
    "    print(\"Mean\\t\\t\",mean_ROC(M,m), \"\\t / \",sims.mean(),\" ± \",mt.sqrt(sims.var()/nsims))\n",
    "    print(\"Var \\t\\t\",variance_ROC(M,m), \"\\t / \",sims.var())\n",
    "    print(\"Best\\t\\t\",best_order_ROC(M,m), \"\\t / \",sims.max())\n",
    "    print(\"Disc\\t\\t\",discri_ROC(M,m), \"\\t / \",(sims.max()-sims.mean())/mt.sqrt(sims.var()))\n",
    "\n",
    "    print(\"\\n I=\",I)\n",
    "    sims = simulate(M,Ms,Ws,I,nsims)\n",
    "    print(\"Mean\\t\\t\", mean_ROCI(M,m,I), \"\\t / \",sims.mean(),\" ± \",mt.sqrt(sims.var()/nsims))\n",
    "    print(\"Var\\t\\t\",variance_ROCI(M,m,I), \"\\t / \",sims.var())\n",
    "    print(\"Best\\t\\t\",best_order_ROCI(M,m,I), \"\\t / \",sims.max())\n",
    "    print(\"Disc\\t\\t\",discri_ROCI(M,m,I), \"\\t / \",(sims.max()-sims.mean())/mt.sqrt(sims.var()))\n"
   ]
  },
  {
   "cell_type": "code",
   "execution_count": 7,
   "id": "dfa75f8f",
   "metadata": {
    "colab": {
     "base_uri": "https://localhost:8080/"
    },
    "id": "dfa75f8f",
    "outputId": "6f5dc9f2-bc7e-49ce-f5ff-f6e023212311"
   },
   "outputs": [
    {
     "name": "stdout",
     "output_type": "stream",
     "text": [
      "M= 31  ; N= 15  ; W= 15  ; n= 1000000.0 \n",
      "\n",
      "RankedNoM\n",
      "=======\n",
      "\t\tTheoretical values \t / Monte Carlo estimate\n",
      "Mean\t\t 464.51612903225805 \t /  464.344048  ±  0.14156980487015475\n",
      "Var \t\t 20045.841137703785 \t /  20042.00965097369\n",
      "Best\t\t 1240.0 \t\t\t /  1240.0\n",
      "Disc\t\t 5.47722557505166 \t /  5.478964618983671\n",
      "\n",
      " I= 7\n",
      "Mean\t\t 325.16129032258067 \t /  325.261268  ±  0.14462982528867338\n",
      "Var\t\t 20896.371834894206 \t /  20917.786363032184\n",
      "Best\t\t 1036.0 \t\t\t /  1036.0\n",
      "Disc\t\t 4.917401009719969 \t /  4.914192011097321\n",
      "\n",
      "\n",
      "NoM\n",
      "=======\n",
      "\t\tTheoretical values \t / Monte Carlo estimate\n",
      "Mean\t\t 7.258064516129032 \t /  7.256851  ±  0.0014122671715362503\n",
      "Var \t\t 1.9979188345473464 \t /  1.9944985637990003\n",
      "Best\t\t 15.0 \t\t\t /  15.0\n",
      "Disc\t\t 5.477225575051661 \t /  5.482779148351285\n",
      "\n",
      " I= 7\n",
      "Mean\t\t 3.3870967741935485 \t /  3.387841  ±  0.00118319582433298\n",
      "Var\t\t 1.3985431841831426 \t /  1.3999523587190001\n",
      "Best\t\t 7.0 \t\t\t /  7.0\n",
      "Disc\t\t 3.055050463303893 \t /  3.052883492076499\n",
      "\n",
      "\n",
      "Geometrical ROC\n",
      "=======\n",
      "\t\tTheoretical values \t / Monte Carlo estimate\n",
      "Mean\t\t 79.92077183748576 \t /  79.93008278102384  ±  0.01277820897004922\n",
      "Var \t\t 163.09471929392498 \t /  163.28262448224638\n",
      "Best\t\t 135.0198070406286 \t /  135.0198070406286\n",
      "Disc\t\t 4.314436133431355 \t /  4.311224240324233\n",
      "\n",
      " I= 7\n",
      "Mean\t\t 63.222784000000004 \t /  63.23074332736  ±  0.01332910829506593\n",
      "Var\t\t 177.8937407078401 \t /  177.66512794159536\n",
      "Best\t\t 114.02848000000002 \t /  114.02848000000002\n",
      "Disc\t\t 3.8091850530464773 \t /  3.8110378840153882\n"
     ]
    }
   ],
   "source": [
    "NumericalCheck(31,15,15,7,1e+6)"
   ]
  },
  {
   "cell_type": "code",
   "execution_count": 8,
   "id": "749dac45",
   "metadata": {
    "colab": {
     "base_uri": "https://localhost:8080/"
    },
    "id": "749dac45",
    "outputId": "7ecc1c51-531a-48c7-c1fc-c848117c854c",
    "scrolled": false
   },
   "outputs": [
    {
     "name": "stdout",
     "output_type": "stream",
     "text": [
      "M= 31  ; N= 25  ; W= 15  ; n= 1000000.0 \n",
      "\n",
      "RankedNoM\n",
      "=======\n",
      "\t\tTheoretical values \t / Monte Carlo estimate\n",
      "Mean\t\t 1258.0645161290322 \t /  1258.276009  ±  0.23390459925369556\n",
      "Var \t\t 54742.49046132499 \t /  54711.361552031914\n",
      "Best\t\t 2440.0 \t\t\t /  2440.0\n",
      "Disc\t\t 5.05162955517556 \t /  5.052162269448533\n",
      "\n",
      " I= 30\n",
      "Mean\t\t 1258.0645161290322 \t /  1257.685693  ±  0.23359725879836385\n",
      "Var\t\t 54742.49046132498 \t /  54567.679318109775\n",
      "Best\t\t 2440.0 \t\t\t /  2440.0\n",
      "Disc\t\t 5.05162955517556 \t /  5.061336391881843\n",
      "\n",
      "\n",
      "NoM\n",
      "=======\n",
      "\t\tTheoretical values \t / Monte Carlo estimate\n",
      "Mean\t\t 12.096774193548388 \t /  12.097013  ±  0.0011167710050995234\n",
      "Var \t\t 1.2486992715920917 \t /  1.2471774778309996\n",
      "Best\t\t 15.0 \t\t\t /  15.0\n",
      "Disc\t\t 2.5980762113533147 \t /  2.599446965173754\n",
      "\n",
      " I= 30\n",
      "Mean\t\t 12.096774193548388 \t /  12.098347  ±  0.0011163739819572112\n",
      "Var\t\t 1.2486992715920917 \t /  1.2462908675909998\n",
      "Best\t\t 15.0 \t\t\t /  15.0\n",
      "Disc\t\t 2.5980762113533147 \t /  2.599176482877953\n",
      "\n",
      "\n",
      "Geometrical ROC\n",
      "=======\n",
      "\t\tTheoretical values \t / Monte Carlo estimate\n",
      "Mean\t\t 79.92077183748576 \t /  79.92754184341287  ±  0.012775272518587353\n",
      "Var \t\t 163.09471929392498 \t /  163.20758792417323\n",
      "Best\t\t 135.0198070406286 \t /  135.0198070406286\n",
      "Disc\t\t 4.314436133431355 \t /  4.312414088784358\n",
      "\n",
      " I= 30\n",
      "Mean\t\t 79.9009647968572 \t /  79.87745587846715  ±  0.012788481861003897\n",
      "Var\t\t 163.12756756211488 \t /  163.5452683092257\n",
      "Best\t\t 135.0185691005893 \t /  135.0185691005893\n",
      "Disc\t\t 4.315455597615484 \t /  4.311779445085249\n"
     ]
    }
   ],
   "source": [
    "NumericalCheck(31,25,15,30,1e+6)"
   ]
  },
  {
   "cell_type": "code",
   "execution_count": 9,
   "id": "1e90eb1c",
   "metadata": {
    "colab": {
     "base_uri": "https://localhost:8080/"
    },
    "id": "1e90eb1c",
    "outputId": "f790200e-78a0-4652-bf2e-1b9b14890629",
    "scrolled": false
   },
   "outputs": [
    {
     "name": "stdout",
     "output_type": "stream",
     "text": [
      "M= 31  ; N= 25  ; W= 15  ; n= 1000000.0 \n",
      "\n",
      "RankedNoM\n",
      "=======\n",
      "\t\tTheoretical values \t / Monte Carlo estimate\n",
      "Mean\t\t 1258.0645161290322 \t /  1257.806047  ±  0.23403479335182997\n",
      "Var \t\t 54742.49046132499 \t /  54772.28449923376\n",
      "Best\t\t 2440.0 \t\t\t /  2440.0\n",
      "Disc\t\t 5.05162955517556 \t /  5.051359825898964\n",
      "\n",
      " I= 15\n",
      "Mean\t\t 1045.1612903225807 \t /  1045.272044  ±  0.26866576218800575\n",
      "Var\t\t 72078.30731876516 \t /  72181.29177206206\n",
      "Best\t\t 2440.0 \t\t\t /  2440.0\n",
      "Disc\t\t 5.1954324414754804 \t /  5.191312598380151\n",
      "\n",
      "\n",
      "NoM\n",
      "=======\n",
      "\t\tTheoretical values \t / Monte Carlo estimate\n",
      "Mean\t\t 12.096774193548388 \t /  12.099141  ±  0.0011173683645597813\n",
      "Var \t\t 1.2486992715920917 \t /  1.2485120621190002\n",
      "Best\t\t 15.0 \t\t\t /  15.0\n",
      "Disc\t\t 2.5980762113533147 \t /  2.596152792586781\n",
      "\n",
      " I= 15\n",
      "Mean\t\t 7.258064516129032 \t /  7.259846  ±  0.0014134440407331307\n",
      "Var\t\t 1.9979188345473464 \t /  1.997824056284\n",
      "Best\t\t 15.0 \t\t\t /  15.0\n",
      "Disc\t\t 5.477225575051661 \t /  5.4760951101999815\n",
      "\n",
      "\n",
      "Geometrical ROC\n",
      "=======\n",
      "\t\tTheoretical values \t / Monte Carlo estimate\n",
      "Mean\t\t 79.92077183748576 \t /  79.90270454621952  ±  0.01277564026002854\n",
      "Var \t\t 163.09471929392498 \t /  163.21698405366212\n",
      "Best\t\t 135.0198070406286 \t /  135.0198070406286\n",
      "Disc\t\t 4.314436133431355 \t /  4.314234071450438\n",
      "\n",
      " I= 15\n",
      "Mean\t\t 77.18525023289345 \t /  77.169206186441  ±  0.01293968673596636\n",
      "Var\t\t 167.28741552613013 \t /  167.43549282494376\n",
      "Best\t\t 132.88893767467007 \t /  132.88893767467007\n",
      "Disc\t\t 4.306776250344935 \t /  4.306111316694702\n"
     ]
    }
   ],
   "source": [
    "NumericalCheck(31,25,15,15,1e+6)"
   ]
  },
  {
   "cell_type": "markdown",
   "id": "4118a90f",
   "metadata": {
    "id": "4118a90f"
   },
   "source": [
    "## Graphics"
   ]
  },
  {
   "cell_type": "markdown",
   "id": "beb2e4cd",
   "metadata": {
    "id": "beb2e4cd"
   },
   "source": [
    "### Discriminability along integration"
   ]
  },
  {
   "cell_type": "code",
   "execution_count": 10,
   "id": "b80e68de",
   "metadata": {
    "colab": {
     "base_uri": "https://localhost:8080/",
     "height": 585
    },
    "id": "b80e68de",
    "outputId": "025f9e42-536a-478e-a809-80905aed9744"
   },
   "outputs": [
    {
     "data": {
      "image/png": "[encoded data removed]",
      "text/plain": [
       "<Figure size 720x576 with 1 Axes>"
      ]
     },
     "metadata": {
      "needs_background": "light"
     },
     "output_type": "display_data"
    }
   ],
   "source": [
    "M=31 ; N=15 ; W=15 ; m=0.8\n",
    "\n",
    "abcissas = np.arange(1,M+1)\n",
    "dROC = [discri_ROCI(M,m,i) for i in abcissas]\n",
    "dNoM = [discri_NoMI(M,N,W,i) for i in abcissas]\n",
    "dHyb = [discri_RankedNoMI(M,N,W,i) for i in abcissas]\n",
    "\n",
    "\n",
    "#fig = plt.figure(figsize=(10, 8))\n",
    "fig, axes = plt.subplots(figsize=(10,8))\n",
    "\n",
    "#axes = fig.add_axes((0,0,1.0,1.0))\n",
    "\n",
    "axes.plot(abcissas,dROC,linewidth=4,color=\"black\",label=\"ROC\")\n",
    "axes.plot(abcissas,dNoM,linewidth=4,color=\"blue\",label=\"NoM\")\n",
    "axes.plot(abcissas,dHyb,linewidth=4,color=\"red\",label=\"Ranked-NoM\")\n",
    "\n",
    "axes.set_xlabel(\"I\", fontsize=30)\n",
    "axes.set_ylabel(\"Discriminability(I)\", fontsize=30)\n",
    "axes.tick_params(axis=\"x\", labelsize=15)\n",
    "axes.tick_params(axis=\"y\", labelsize=15)\n",
    "axes.set_xlim(abcissas[0]-1,abcissas[-1]+1)\n",
    "axes.spines['right'].set_visible(False)\n",
    "axes.spines['top'].set_visible(False)\n",
    "\n",
    "axes.legend(prop={'size': 20})\n",
    "\n",
    "fig.tight_layout()\n",
    "\n",
    "fig.savefig(\"Discri-31-15-15.pdf\")\n"
   ]
  },
  {
   "cell_type": "markdown",
   "id": "66df4c30",
   "metadata": {},
   "source": [
    "### Discriminability as a function of $M$"
   ]
  },
  {
   "cell_type": "code",
   "execution_count": 11,
   "id": "159438da",
   "metadata": {
    "colab": {
     "base_uri": "https://localhost:8080/",
     "height": 585
    },
    "id": "159438da",
    "outputId": "cad802b4-43a9-4bd1-b675-0c369faf9391"
   },
   "outputs": [
    {
     "data": {
      "image/png": "[encoded data removed]",
      "text/plain": [
       "<Figure size 720x576 with 1 Axes>"
      ]
     },
     "metadata": {
      "needs_background": "light"
     },
     "output_type": "display_data"
    }
   ],
   "source": [
    "m=0.8\n",
    "abcissas = 2**np.arange(1,8)\n",
    "dROC = [discri_ROC(i,m) for i in abcissas]\n",
    "\n",
    "\n",
    "AsympTdROC = [(3*(1-m**2))**(1/2)/(1-m) for i in abcissas]\n",
    "dNoM = [discri_NoM(i,mt.floor(i/2),mt.floor(i/2)) for i in abcissas]\n",
    "dNoM2= [(i-1)**(1/2) for i in abcissas]\n",
    "dHyb = [discri_RankedNoM(i,mt.floor(i/2),mt.floor(i/2)) for i in abcissas]\n",
    "\n",
    "#fig = plt.figure(figsize=(10, 8))\n",
    "fig, axes = plt.subplots(figsize=(10,8))\n",
    "\n",
    "#axes = fig.add_axes((0,0,1.0,1.0))\n",
    "\n",
    "axes.plot(abcissas,dROC,linewidth=4,color=\"black\",label=\"ROC\")\n",
    "axes.plot(abcissas,dNoM,linewidth=4,color=\"blue\",label=\"NoM\")\n",
    "axes.plot(abcissas,dHyb,'--',linewidth=4,color=\"red\",label=\"Ranked-NoM\")\n",
    "#axes.plot(abcissas,dNoM2,linewidth=1,color=\"red\",label=\"RadicalFunctionNoM-RankedNoM\")\n",
    "axes.plot(abcissas,AsympTdROC,'--',linewidth=2,color=\"gray\",label=\"ROC Asymptote\")\n",
    "\n",
    "axes.set_xlabel(\"M\", fontsize=30)\n",
    "axes.set_ylabel(\"Discriminability(M)\", fontsize=30)\n",
    "axes.tick_params(axis=\"x\", labelsize=15)\n",
    "axes.tick_params(axis=\"y\", labelsize=15)\n",
    "axes.set_xlim(abcissas[0]-1,abcissas[-1]+1)\n",
    "axes.spines['right'].set_visible(False)\n",
    "axes.spines['top'].set_visible(False)\n",
    "\n",
    "axes.legend(prop={'size': 20})\n",
    "\n",
    "fig.tight_layout()\n",
    "\n",
    "fig.savefig(\"Discri-M-Asymptote.pdf\")\n"
   ]
  },
  {
   "cell_type": "code",
   "execution_count": null,
   "id": "0617f01a",
   "metadata": {
    "id": "0617f01a"
   },
   "outputs": [],
   "source": []
  },
  {
   "cell_type": "code",
   "execution_count": null,
   "id": "ee176cf6",
   "metadata": {
    "id": "ee176cf6"
   },
   "outputs": [],
   "source": []
  },
  {
   "cell_type": "code",
   "execution_count": null,
   "id": "324bb4ec",
   "metadata": {
    "id": "324bb4ec"
   },
   "outputs": [],
   "source": []
  },
  {
   "cell_type": "code",
   "execution_count": null,
   "id": "68619cea",
   "metadata": {
    "id": "68619cea"
   },
   "outputs": [],
   "source": []
  },
  {
   "cell_type": "code",
   "execution_count": null,
   "id": "f26b2148",
   "metadata": {
    "id": "f26b2148"
   },
   "outputs": [],
   "source": []
  },
  {
   "cell_type": "code",
   "execution_count": null,
   "id": "cef150de",
   "metadata": {
    "id": "cef150de"
   },
   "outputs": [],
   "source": []
  }
 ],
 "metadata": {
  "colab": {
   "collapsed_sections": [],
   "name": "NumericalCheck.ipynb",
   "provenance": []
  },
  "kernelspec": {
   "display_name": "Python 3",
   "language": "python",
   "name": "python3"
  },
  "language_info": {
   "codemirror_mode": {
    "name": "ipython",
    "version": 3
   },
   "file_extension": ".py",
   "mimetype": "text/x-python",
   "name": "python",
   "nbconvert_exporter": "python",
   "pygments_lexer": "ipython3",
   "version": "3.8.8"
  },
  "latex_envs": {
   "LaTeX_envs_menu_present": true,
   "autoclose": false,
   "autocomplete": true,
   "bibliofile": "biblio.bib",
   "cite_by": "apalike",
   "current_citInitial": 1,
   "eqLabelWithNumbers": true,
   "eqNumInitial": 1,
   "hotkeys": {
    "equation": "Ctrl-E",
    "itemize": "Ctrl-I"
   },
   "labels_anchors": false,
   "latex_user_defs": false,
   "report_style_numbering": false,
   "user_envs_cfg": false
  }
 },
 "nbformat": 4,
 "nbformat_minor": 5
}
